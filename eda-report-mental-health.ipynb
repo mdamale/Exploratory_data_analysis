{
 "cells": [
  {
   "cell_type": "markdown",
   "metadata": {},
   "source": [
    "# Utilization of workplace resources and readiness to express concerns:\n",
    "\n",
    "\n",
    "*a study on Mental Health in the Tech industry conducted by the Real Ricardo*\n",
    "\n",
    "The data utilized in this notebook was sourced from Kaggle. The data originates from a survey conducted in 2014 by OSMI, a non-profit organization committed to increasing awareness, educating, and offering resources to support mental well-being within the tech and open source communities.\n",
    "\n",
    "\n",
    "\n",
    "**Below is an explanation of the survey questions (columns) asked:**\n",
    "Column\t                                                                        Description\n",
    "Timestamp\t                                                                 Date when the survey was completed\n",
    "Gender\t                                                                Identification of the surveyed individual's gender\n",
    "Country\t                                                                    Country of residence\n",
    "State\t                                                                        Only applicable to residents of the US\n",
    "self_employed\t                                                            Indicates if the respondent is self-employed\n",
    "family_history\t                                                            Inquires about any family history of mental illness\n",
    "treatment\t                                                Asks if the respondent has sought treatment for a mental health condition\n",
    "work_interfere\t                                                    Assesses if a mental health condition interferes with work\n",
    "no_employees\t                                    Indicates the size of the respondent's company or organization in terms of employees\n",
    "remote_work\t                               Inquires if the respondent works remotely (outside of an office) for at least 50% of the time\n",
    "tech_company\t                               Determines if the respondent's employer primarily operates as a tech company/organization\n",
    "benefits\t                                                Inquires if the respondent's employer provides mental health benefits\n",
    "care_options\t                                  Asks if the respondent knows the mental health care options provided by their employer\n",
    "wellness_program\t           Determines if the respondent's employer has discussed mental health as part of an employee wellness program\n",
    "seek_help\t        Inquires if the respondent's employer provides resources to learn about mental health issues and how to seek help\n",
    "anonymity\t     Assesses if the respondent's anonymity is protected when utilizing mental health or substance abuse treatment resources\n",
    "leave\tDetermines the ease of taking medical leave for a mental health condition\n",
    "mental_health_consequence\tAsks if discussing a mental health issue with the employer would have negative consequences\n",
    "phys_health_consequence\tInquires if discussing a physical health issue with the employer would have negative consequences\n",
    "coworkers\tAssesses the willingness of the respondent to discuss a mental health issue with their coworkers\n",
    "supervisors\tDetermines the willingness of the respondent to discuss a mental health issue with their direct supervisor(s)\n",
    "mental_health_interview\tAsks if the respondent would bring up a mental health issue with a potential employer during an interview\n",
    "mental_vs_physical\tInquires if the respondent feels that their employer takes mental health as seriously as physical health\n",
    "obs_consequence\tDetermines if the respondent has heard of or observed negative consequences for coworkers with mental health conditions in their workplace\n",
    "comments\tProvides space for any additional notes or comments\n",
    "\n",
    "\n",
    "\n"
   ]
  },
  {
   "cell_type": "code",
   "execution_count": null,
   "metadata": {},
   "outputs": [
    {
     "ename": "",
     "evalue": "",
     "output_type": "error",
     "traceback": [
      "\u001b[1;31mRunning cells with '/opt/homebrew/bin/python3.12' requires the ipykernel package.\n",
      "\u001b[1;31mRun the following command to install 'ipykernel' into the Python environment. \n",
      "\u001b[1;31mCommand: '/opt/homebrew/bin/python3.12 -m pip install ipykernel -U --user --force-reinstall'"
     ]
    }
   ],
   "source": [
    "# classic importing of libraries\n",
    "import numpy as np\n",
    "import pandas as pd\n",
    "import matplotlib.pyplot as plt\n",
    "from scipy import stats\n",
    "import seaborn as sns\n",
    "\n",
    "# choosing color palette\n",
    "flatui = [\"#9b59b6\", \"#3498db\", \"#95a5a6\", \"#e74c3c\", \"#34495e\", \"#2ecc71\"]"
   ]
  },
  {
   "cell_type": "markdown",
   "metadata": {},
   "source": [
    "## 1. Data Cleaning"
   ]
  },
  {
   "cell_type": "code",
   "execution_count": null,
   "metadata": {},
   "outputs": [
    {
     "ename": "",
     "evalue": "",
     "output_type": "error",
     "traceback": [
      "\u001b[1;31mRunning cells with '/opt/homebrew/bin/python3.12' requires the ipykernel package.\n",
      "\u001b[1;31mRun the following command to install 'ipykernel' into the Python environment. \n",
      "\u001b[1;31mCommand: '/opt/homebrew/bin/python3.12 -m pip install ipykernel -U --user --force-reinstall'"
     ]
    }
   ],
   "source": [
    "# loading data into pandas dataframe and exploring columns and first rows\n",
    "survey = pd.read_csv('survey.csv')\n",
    "survey.head()"
   ]
  },
  {
   "cell_type": "code",
   "execution_count": null,
   "metadata": {},
   "outputs": [
    {
     "ename": "",
     "evalue": "",
     "output_type": "error",
     "traceback": [
      "\u001b[1;31mRunning cells with '/opt/homebrew/bin/python3.12' requires the ipykernel package.\n",
      "\u001b[1;31mRun the following command to install 'ipykernel' into the Python environment. \n",
      "\u001b[1;31mCommand: '/opt/homebrew/bin/python3.12 -m pip install ipykernel -U --user --force-reinstall'"
     ]
    }
   ],
   "source": [
    "# renaming columns to have all lowercase\n",
    "survey.columns = [col.lower() for col in survey.columns]\n",
    "\n",
    "# looking at dtypes, we can see all of them are pandas objects except for age that is int.\n",
    "print(survey.dtypes)"
   ]
  },
  {
   "cell_type": "markdown",
   "metadata": {},
   "source": [
    "- **after exploring some of the columns I have decided not to use the *timestamp, country, state or comments columns*.**\n",
    "- **i don't think there are is not enough data to do a geographical analysis.**"
   ]
  },
  {
   "cell_type": "code",
   "execution_count": null,
   "metadata": {},
   "outputs": [
    {
     "ename": "",
     "evalue": "",
     "output_type": "error",
     "traceback": [
      "\u001b[1;31mRunning cells with '/opt/homebrew/bin/python3.12' requires the ipykernel package.\n",
      "\u001b[1;31mRun the following command to install 'ipykernel' into the Python environment. \n",
      "\u001b[1;31mCommand: '/opt/homebrew/bin/python3.12 -m pip install ipykernel -U --user --force-reinstall'"
     ]
    }
   ],
   "source": [
    "survey.drop(['timestamp', 'state', 'comments', 'country'], axis= 1, inplace= True)"
   ]
  },
  {
   "cell_type": "code",
   "execution_count": null,
   "metadata": {},
   "outputs": [
    {
     "ename": "",
     "evalue": "",
     "output_type": "error",
     "traceback": [
      "\u001b[1;31mRunning cells with '/opt/homebrew/bin/python3.12' requires the ipykernel package.\n",
      "\u001b[1;31mRun the following command to install 'ipykernel' into the Python environment. \n",
      "\u001b[1;31mCommand: '/opt/homebrew/bin/python3.12 -m pip install ipykernel -U --user --force-reinstall'"
     ]
    }
   ],
   "source": [
    "# after finding some weird responses in the age column ('such as 99999999 and -1729')\n",
    "# i decided to only include 'valid' numbers for age\n",
    "survey['age'] = survey['age'].apply(lambda x: x if 0 < x < 100 else np.nan)"
   ]
  },
  {
   "cell_type": "code",
   "execution_count": null,
   "metadata": {
    "scrolled": true
   },
   "outputs": [
    {
     "ename": "",
     "evalue": "",
     "output_type": "error",
     "traceback": [
      "\u001b[1;31mRunning cells with '/opt/homebrew/bin/python3.12' requires the ipykernel package.\n",
      "\u001b[1;31mRun the following command to install 'ipykernel' into the Python environment. \n",
      "\u001b[1;31mCommand: '/opt/homebrew/bin/python3.12 -m pip install ipykernel -U --user --force-reinstall'"
     ]
    }
   ],
   "source": [
    "# gender is one big mess of data but I believe in myself.\n",
    "# first lower case and strip eveything to decrease options\n",
    "survey['gender'] = survey['gender'].apply(lambda x: x.lower().strip())\n",
    "\n",
    "# based on the replies made these lists manually, I hope to not offend anyone.\n",
    "male = ['male', 'm', 'make', 'cis male', 'man', 'cis man', 'msle', 'malr', 'mail', 'maile', 'something kinda male?', 'ostensibly male, unsure what that really means', 'male-ish', 'guy (-ish) ^_^', 'mal', 'male (cis)']\n",
    "female = ['female', 'f', 'woman', 'female (cis)', 'cis-female/femme', 'femake', 'cis female', 'femail']\n",
    "\n",
    "def regender(gender_input):\n",
    "    \n",
    "    \"\"\"\n",
    "    Input: a string about gender\n",
    "    Output: male, female or other depending on our dictionary\n",
    "    \n",
    "    \"\"\" \n",
    "    if gender_input in male:\n",
    "        return 'male'\n",
    "    elif gender_input in female:\n",
    "        return 'female'\n",
    "    else:\n",
    "        return 'other'\n",
    "    \n",
    "survey['gender'] = survey['gender'].apply(regender)\n",
    "\n",
    "# check our final results\n",
    "survey.gender.value_counts(dropna= False)"
   ]
  },
  {
   "cell_type": "code",
   "execution_count": null,
   "metadata": {},
   "outputs": [
    {
     "ename": "",
     "evalue": "",
     "output_type": "error",
     "traceback": [
      "\u001b[1;31mRunning cells with '/opt/homebrew/bin/python3.12' requires the ipykernel package.\n",
      "\u001b[1;31mRun the following command to install 'ipykernel' into the Python environment. \n",
      "\u001b[1;31mCommand: '/opt/homebrew/bin/python3.12 -m pip install ipykernel -U --user --force-reinstall'"
     ]
    }
   ],
   "source": [
    "# checking for nans\n",
    "nan_cols = []\n",
    "for col in survey.columns:\n",
    "    if survey[col].isnull().sum():\n",
    "        print(col + ' (%): ' + str(sum(survey[col].isnull())/len(survey)))\n",
    "        nan_cols += [col]\n",
    "\n",
    "# nans are present in the self-employed column and in the work_interfere column.\n",
    "# at most there are 20% of values with nans so we'll replace with 'Don't know'\n",
    "for col in nan_cols:\n",
    "    survey[col].fillna(\"Don't know\", inplace= True)\n",
    "\n",
    "# i'm just gonna drop the rows without age.\n",
    "survey = survey[survey.age != \"Don't know\"]\n",
    "\n",
    "# in the context of our questions we need to drop everyone who is self-employed\n",
    "print(survey['self_employed'].value_counts())\n",
    "survey.loc[survey['self_employed'] == 'Yes'] = np.nan\n",
    "survey.dropna(inplace=True)"
   ]
  },
  {
   "cell_type": "markdown",
   "metadata": {},
   "source": [
    "- **it seems the rest of the columns are questions that might be yes or no, with few additional options**\n",
    "- **we can identify that by checking the possible answers in each question**"
   ]
  },
  {
   "cell_type": "code",
   "execution_count": null,
   "metadata": {},
   "outputs": [
    {
     "ename": "",
     "evalue": "",
     "output_type": "error",
     "traceback": [
      "\u001b[1;31mRunning cells with '/opt/homebrew/bin/python3.12' requires the ipykernel package.\n",
      "\u001b[1;31mRun the following command to install 'ipykernel' into the Python environment. \n",
      "\u001b[1;31mCommand: '/opt/homebrew/bin/python3.12 -m pip install ipykernel -U --user --force-reinstall'"
     ]
    }
   ],
   "source": [
    "# getting unique answers for every column\n",
    "exclude = ['age']\n",
    "possible_answers = {col:[i for i in survey[col].unique()] for col in survey.columns if col not in exclude}\n",
    "possible_answers"
   ]
  },
  {
   "cell_type": "markdown",
   "metadata": {},
   "source": [
    "- **after looking at these answer possibilities want to normalize all 'half-answers' to 'Don't know', so changing 'Not sure' and 'Maybes'**\n",
    "- **this decision might be open for interpretation, but I made a judgement call for the sake of consistency**"
   ]
  },
  {
   "cell_type": "code",
   "execution_count": null,
   "metadata": {},
   "outputs": [
    {
     "ename": "",
     "evalue": "",
     "output_type": "error",
     "traceback": [
      "\u001b[1;31mRunning cells with '/opt/homebrew/bin/python3.12' requires the ipykernel package.\n",
      "\u001b[1;31mRun the following command to install 'ipykernel' into the Python environment. \n",
      "\u001b[1;31mCommand: '/opt/homebrew/bin/python3.12 -m pip install ipykernel -U --user --force-reinstall'"
     ]
    }
   ],
   "source": [
    "def replace_uncertainty(survey_answer):\n",
    "    \"\"\"\n",
    "    Uniformizes all uncertain answers.\n",
    "    Input: half-answer (string)\n",
    "    Output: 'Don't know'\n",
    "    \n",
    "    \"\"\"\n",
    "    \n",
    "    uncertainty = ['Maybe', 'Some of them', 'Not sure']\n",
    "    if survey_answer in uncertainty:\n",
    "        return \"Don't know\"\n",
    "    else:\n",
    "        return survey_answer\n",
    "\n",
    "# apply function to all columns\n",
    "for col in survey.columns:\n",
    "    survey[col] = survey[col].apply(replace_uncertainty)"
   ]
  },
  {
   "cell_type": "markdown",
   "metadata": {},
   "source": [
    "- **the column 'care_options' asks the question: \"Do you know the options for mental health care your employer provides?\" and about 30% of the answers are 'Dont know'.** \n",
    "- **in my opinion: if the answer to a question 'Do you know?' is 'I don't know' - then the answer is No.**"
   ]
  },
  {
   "cell_type": "code",
   "execution_count": null,
   "metadata": {},
   "outputs": [
    {
     "ename": "",
     "evalue": "",
     "output_type": "error",
     "traceback": [
      "\u001b[1;31mRunning cells with '/opt/homebrew/bin/python3.12' requires the ipykernel package.\n",
      "\u001b[1;31mRun the following command to install 'ipykernel' into the Python environment. \n",
      "\u001b[1;31mCommand: '/opt/homebrew/bin/python3.12 -m pip install ipykernel -U --user --force-reinstall'"
     ]
    }
   ],
   "source": [
    "survey['care_options'] = survey['care_options'].replace(to_replace=\"Don't know\", value= 'No')\n",
    "survey['care_options'].value_counts()"
   ]
  },
  {
   "cell_type": "markdown",
   "metadata": {},
   "source": [
    "## 2. Exploratory Data Analysis"
   ]
  },
  {
   "cell_type": "markdown",
   "metadata": {},
   "source": [
    "**I was trying to come up with a question to ask the data but I wasn't feeling very creative.**\n",
    "**So I'm gonna do an agnostic analysis and just make a correlation matrix bewteen all the variables.**\n",
    "\n",
    "1. The first thing I'll do is encode all the answers as numbers.\n",
    "- **Important notes:**\n",
    "- All the half answers go in the middle (0)"
   ]
  },
  {
   "cell_type": "code",
   "execution_count": null,
   "metadata": {},
   "outputs": [
    {
     "ename": "",
     "evalue": "",
     "output_type": "error",
     "traceback": [
      "\u001b[1;31mRunning cells with '/opt/homebrew/bin/python3.12' requires the ipykernel package.\n",
      "\u001b[1;31mRun the following command to install 'ipykernel' into the Python environment. \n",
      "\u001b[1;31mCommand: '/opt/homebrew/bin/python3.12 -m pip install ipykernel -U --user --force-reinstall'"
     ]
    }
   ],
   "source": [
    "# create a dictionary to map out all the answers in the survey\n",
    "encoding_dict = {'No': -1, \"Don't know\": 0, 'Yes': 1,\n",
    "                 'Never': -2, 'Rarely': -1, 'Sometimes': 1, 'Often': 2,\n",
    "                 'Very difficult': -2, 'Somewhat difficult': -1, 'Somewhat easy': 1, 'Very easy': 2,\n",
    "                 '1-5': 0, '6-25': 1, '26-100': 2, '100-500': 3, '500-1000': 4, 'More than 1000': 5,\n",
    "                 'male': -1, 'other': 0, 'female': 1}"
   ]
  },
  {
   "cell_type": "code",
   "execution_count": null,
   "metadata": {},
   "outputs": [
    {
     "ename": "",
     "evalue": "",
     "output_type": "error",
     "traceback": [
      "\u001b[1;31mRunning cells with '/opt/homebrew/bin/python3.12' requires the ipykernel package.\n",
      "\u001b[1;31mRun the following command to install 'ipykernel' into the Python environment. \n",
      "\u001b[1;31mCommand: '/opt/homebrew/bin/python3.12 -m pip install ipykernel -U --user --force-reinstall'"
     ]
    }
   ],
   "source": [
    "# made a copy just to check values\n",
    "survey_coded = survey.copy()\n",
    "\n",
    "# for each column except the ones not excluded change the values in our dictionary\n",
    "for col in survey_coded.columns:\n",
    "    if col not in exclude:\n",
    "        survey_coded[col] = survey_coded[col].map(encoding_dict)"
   ]
  },
  {
   "cell_type": "code",
   "execution_count": null,
   "metadata": {},
   "outputs": [
    {
     "ename": "",
     "evalue": "",
     "output_type": "error",
     "traceback": [
      "\u001b[1;31mRunning cells with '/opt/homebrew/bin/python3.12' requires the ipykernel package.\n",
      "\u001b[1;31mRun the following command to install 'ipykernel' into the Python environment. \n",
      "\u001b[1;31mCommand: '/opt/homebrew/bin/python3.12 -m pip install ipykernel -U --user --force-reinstall'"
     ]
    }
   ],
   "source": [
    "# let's take a look at our answer-encoded dataframe.\n",
    "survey_coded"
   ]
  },
  {
   "cell_type": "markdown",
   "metadata": {},
   "source": [
    "- **because I'm still not feeling very creative, I'm gonna make a correlation matrix across all the variables in the study**"
   ]
  },
  {
   "cell_type": "code",
   "execution_count": null,
   "metadata": {},
   "outputs": [
    {
     "ename": "",
     "evalue": "",
     "output_type": "error",
     "traceback": [
      "\u001b[1;31mRunning cells with '/opt/homebrew/bin/python3.12' requires the ipykernel package.\n",
      "\u001b[1;31mRun the following command to install 'ipykernel' into the Python environment. \n",
      "\u001b[1;31mCommand: '/opt/homebrew/bin/python3.12 -m pip install ipykernel -U --user --force-reinstall'"
     ]
    }
   ],
   "source": [
    "# make the correlation matrix\n",
    "correlation = survey_coded.corr()"
   ]
  },
  {
   "cell_type": "code",
   "execution_count": null,
   "metadata": {},
   "outputs": [
    {
     "ename": "",
     "evalue": "",
     "output_type": "error",
     "traceback": [
      "\u001b[1;31mRunning cells with '/opt/homebrew/bin/python3.12' requires the ipykernel package.\n",
      "\u001b[1;31mRun the following command to install 'ipykernel' into the Python environment. \n",
      "\u001b[1;31mCommand: '/opt/homebrew/bin/python3.12 -m pip install ipykernel -U --user --force-reinstall'"
     ]
    }
   ],
   "source": [
    "# making a mask to only show half the table cause its duplicated.\n",
    "mask = np.triu(np.ones_like(correlation, dtype=np.bool))\n",
    "\n",
    "# choosing colors\n",
    "cmap = sns.diverging_palette(220, 10, as_cmap=True)\n",
    "\n",
    "# creating the heatmap\n",
    "plt.figure(figsize=(12, 8))\n",
    "sns.heatmap(correlation, cmap=cmap, mask=mask, annot= False)"
   ]
  },
  {
   "cell_type": "markdown",
   "metadata": {},
   "source": [
    "- **This plot is very pretty but I've come to the realization that it is useless to me. there are way too many variables. It's hard to consider what is important or not and I don't have the know-how yet to disentangle all of this.**\n",
    "\n",
    "*Teach me please.*\n",
    "\n",
    "## 3. Hypothesis-driven analysis"
   ]
  },
  {
   "cell_type": "markdown",
   "metadata": {},
   "source": [
    "**To create a score for the willingness to speak, we combined all the columns that ask 'If you're willing to speak to someone about mental health**\n",
    "\n",
    "**Following the same logic, I combined all the columns that ask about services provided by the company**\n",
    "\n",
    "We combined these columns by adding them together, it was important to make sure they all 'move in the same direction'\n",
    "The result of this are two columns:\n",
    "1. 'workplace_resources': with a possible value ranging from -6 to 6 and is the score of the company\n",
    "2. 'willingness': with a possible values ranging from -3 to 3 and is the metric of the employee"
   ]
  },
  {
   "cell_type": "code",
   "execution_count": null,
   "metadata": {},
   "outputs": [
    {
     "ename": "",
     "evalue": "",
     "output_type": "error",
     "traceback": [
      "\u001b[1;31mRunning cells with '/opt/homebrew/bin/python3.12' requires the ipykernel package.\n",
      "\u001b[1;31mRun the following command to install 'ipykernel' into the Python environment. \n",
      "\u001b[1;31mCommand: '/opt/homebrew/bin/python3.12 -m pip install ipykernel -U --user --force-reinstall'"
     ]
    }
   ],
   "source": [
    "# define columns to combine\n",
    "workplace_resources = ['benefits', \n",
    "                      'wellness_program', \n",
    "                      'anonymity', \n",
    "                      'seek_help', \n",
    "                      'leave']\n",
    "\n",
    "willingness = ['coworkers',\n",
    "               'supervisor',\n",
    "               'mental_health_interview']\n",
    "\n",
    "# add columns together\n",
    "survey_coded['workplace_resources'] = survey_coded.benefits + survey_coded.wellness_program + survey_coded.seek_help + survey_coded.leave + survey_coded.anonymity\n",
    "survey_coded['willingness'] = survey_coded.coworkers + survey_coded.supervisor + survey_coded.mental_health_interview"
   ]
  },
  {
   "cell_type": "code",
   "execution_count": null,
   "metadata": {},
   "outputs": [
    {
     "ename": "",
     "evalue": "",
     "output_type": "error",
     "traceback": [
      "\u001b[1;31mRunning cells with '/opt/homebrew/bin/python3.12' requires the ipykernel package.\n",
      "\u001b[1;31mRun the following command to install 'ipykernel' into the Python environment. \n",
      "\u001b[1;31mCommand: '/opt/homebrew/bin/python3.12 -m pip install ipykernel -U --user --force-reinstall'"
     ]
    }
   ],
   "source": [
    "# gonna define a function to make a nice looking histogram\n",
    "\n",
    "def pretty_histogram(data, colname, label, save= False):\n",
    "    \n",
    "    \"\"\"\n",
    "    Input: data (pandas dataframe), column name (str), x label (str), save (bool)\n",
    "    Output: a pretty histogram\n",
    "    \"\"\"\n",
    "\n",
    "    hist = sns.distplot(data[colname], \n",
    "                        bins = data[colname].max() - data[colname].min() + 1,\n",
    "                        kde= False,\n",
    "                        color=flatui[-2],\n",
    "                        hist_kws= {'range': (data[colname].min(), data[colname].max()),\n",
    "                                   'rwidth': 0.95,\n",
    "                                   'alpha': 1})\n",
    "    \n",
    "    hist.set(xlabel= label, ylabel= 'Count')\n",
    "    sns.despine()\n",
    "    \n",
    "    if save:\n",
    "        figure = hist.get_figure()\n",
    "        figure.savefig('figures/' + colname + \"_hist.png\")\n",
    "    "
   ]
  },
  {
   "cell_type": "code",
   "execution_count": null,
   "metadata": {
    "scrolled": true
   },
   "outputs": [
    {
     "ename": "",
     "evalue": "",
     "output_type": "error",
     "traceback": [
      "\u001b[1;31mRunning cells with '/opt/homebrew/bin/python3.12' requires the ipykernel package.\n",
      "\u001b[1;31mRun the following command to install 'ipykernel' into the Python environment. \n",
      "\u001b[1;31mCommand: '/opt/homebrew/bin/python3.12 -m pip install ipykernel -U --user --force-reinstall'"
     ]
    }
   ],
   "source": [
    "# make a histogram for our newly created 'Willingness' variable.\n",
    "pretty_histogram(survey_coded, 'willingness', 'Willingness Score', save= False)"
   ]
  },
  {
   "cell_type": "markdown",
   "metadata": {},
   "source": [
    "**This looks like a right skewed distribution, meaning that the majority of people are unwilling to talk about mental health in their work environment.**"
   ]
  },
  {
   "cell_type": "code",
   "execution_count": null,
   "metadata": {
    "scrolled": true
   },
   "outputs": [
    {
     "ename": "",
     "evalue": "",
     "output_type": "error",
     "traceback": [
      "\u001b[1;31mRunning cells with '/opt/homebrew/bin/python3.12' requires the ipykernel package.\n",
      "\u001b[1;31mRun the following command to install 'ipykernel' into the Python environment. \n",
      "\u001b[1;31mCommand: '/opt/homebrew/bin/python3.12 -m pip install ipykernel -U --user --force-reinstall'"
     ]
    }
   ],
   "source": [
    "# make a histogram for our newly created 'Workplace Resources' variable\n",
    "pretty_histogram(survey_coded, 'workplace_resources', 'Workplace Resources Score', save= True)"
   ]
  },
  {
   "cell_type": "markdown",
   "metadata": {},
   "source": [
    "**This one looks more normally distributed but still centered left of the zero, meaning that the majority of companies don't have many mental health resources**"
   ]
  },
  {
   "cell_type": "markdown",
   "metadata": {},
   "source": [
    "#### Before moving forwards, one of the first questions we can ask is: does having more mental health services mean that your employees are aware these services exist?"
   ]
  },
  {
   "cell_type": "code",
   "execution_count": null,
   "metadata": {},
   "outputs": [
    {
     "ename": "",
     "evalue": "",
     "output_type": "error",
     "traceback": [
      "\u001b[1;31mRunning cells with '/opt/homebrew/bin/python3.12' requires the ipykernel package.\n",
      "\u001b[1;31mRun the following command to install 'ipykernel' into the Python environment. \n",
      "\u001b[1;31mCommand: '/opt/homebrew/bin/python3.12 -m pip install ipykernel -U --user --force-reinstall'"
     ]
    }
   ],
   "source": [
    "# interestingly to check the proportion of people aware of services I needed to recode the values in the\n",
    "# care options column from 'No' = -1 to 'No' = 0\n",
    "survey_coded['care_options'].replace(to_replace=-1, value=0, inplace= True)\n",
    "survey_coded.pivot_table(index=['workplace_resources'], values=['care_options'], aggfunc= lambda x: sum(x)/len(x))"
   ]
  },
  {
   "cell_type": "code",
   "execution_count": null,
   "metadata": {},
   "outputs": [
    {
     "ename": "",
     "evalue": "",
     "output_type": "error",
     "traceback": [
      "\u001b[1;31mRunning cells with '/opt/homebrew/bin/python3.12' requires the ipykernel package.\n",
      "\u001b[1;31mRun the following command to install 'ipykernel' into the Python environment. \n",
      "\u001b[1;31mCommand: '/opt/homebrew/bin/python3.12 -m pip install ipykernel -U --user --force-reinstall'"
     ]
    }
   ],
   "source": [
    "# plot proportions of people that know about care options for each score of workplace resource.\n",
    "\n",
    "label = 'Workplace Resources Score'\n",
    "\n",
    "bars = sns.barplot(x='workplace_resources', y='care_options', data= survey_coded, \n",
    "                   ci= None, color= flatui[4])\n",
    "\n",
    "bars.set(xlabel= label, ylabel= 'Proportion Employee Awareness')\n",
    "sns.despine()\n",
    "figure = bars.get_figure()\n",
    "figure.savefig('figures/resources_and_awareness.png')"
   ]
  },
  {
   "cell_type": "markdown",
   "metadata": {},
   "source": [
    "- **This is a really interesting result, kind of U-shaped.**\n",
    "- **One possible interpretation is that the more services are available, more people know about them, and where there's none people ALSO know that.**"
   ]
  },
  {
   "cell_type": "markdown",
   "metadata": {},
   "source": [
    "- **before moving on with our analysis, I would like to see what's the behavior of our willingness score according to some other variables, such as family history, treatment and work interfere**"
   ]
  },
  {
   "cell_type": "code",
   "execution_count": null,
   "metadata": {},
   "outputs": [
    {
     "ename": "",
     "evalue": "",
     "output_type": "error",
     "traceback": [
      "\u001b[1;31mRunning cells with '/opt/homebrew/bin/python3.12' requires the ipykernel package.\n",
      "\u001b[1;31mRun the following command to install 'ipykernel' into the Python environment. \n",
      "\u001b[1;31mCommand: '/opt/homebrew/bin/python3.12 -m pip install ipykernel -U --user --force-reinstall'"
     ]
    }
   ],
   "source": [
    "# group by variable of interest, create a label and rename columns\n",
    "family_data = survey_coded.groupby('family_history').agg({'willingness':'mean'}).reset_index()\n",
    "family_data['label'] = ['Family History']*len(family_data)\n",
    "family_data.rename(columns= {'family_history':'Answer'}, inplace=True)\n",
    "\n",
    "treatment_data = survey_coded.groupby('treatment').agg({'willingness':'mean'}).reset_index()\n",
    "treatment_data['label'] = ['Treatment']*len(treatment_data)\n",
    "treatment_data.rename(columns= {'treatment':'Answer'}, inplace=True)\n",
    "\n",
    "willingness_variables = pd.concat([family_data, treatment_data], axis=0)\n",
    "willingness_variables.Answer.replace(to_replace=-1, value='No', inplace=True)\n",
    "willingness_variables.Answer.replace(to_replace=1, value='Yes', inplace=True)"
   ]
  },
  {
   "cell_type": "code",
   "execution_count": null,
   "metadata": {},
   "outputs": [
    {
     "ename": "",
     "evalue": "",
     "output_type": "error",
     "traceback": [
      "\u001b[1;31mRunning cells with '/opt/homebrew/bin/python3.12' requires the ipykernel package.\n",
      "\u001b[1;31mRun the following command to install 'ipykernel' into the Python environment. \n",
      "\u001b[1;31mCommand: '/opt/homebrew/bin/python3.12 -m pip install ipykernel -U --user --force-reinstall'"
     ]
    }
   ],
   "source": [
    "# making a category bar plot\n",
    "fig, ax = plt.subplots(figsize=(5, 3))\n",
    "\n",
    "bars= sns.barplot(x=\"label\", y=\"willingness\", hue=\"Answer\", \n",
    "            palette= sns.color_palette(flatui[1:3]), \n",
    "            data=willingness_variables)\n",
    "\n",
    "def change_width(ax, new_value) :\n",
    "    for patch in ax.patches :\n",
    "        current_width = patch.get_width()\n",
    "        diff = current_width - new_value\n",
    "\n",
    "        # we change the bar width\n",
    "        patch.set_width(new_value)\n",
    "\n",
    "        # we recenter the bar\n",
    "        patch.set_x(patch.get_x() + diff * .5)\n",
    "\n",
    "\n",
    "change_width(ax, .37)\n",
    "sns.despine(bottom=True)\n",
    "bars.set(xlabel= '', ylabel= 'Willingness Score')\n",
    "bars.tick_params(axis='x', which='both', length=0)\n",
    "figure = bars.get_figure()\n",
    "figure.savefig('figures/history_treatment_willingness.png')"
   ]
  },
  {
   "cell_type": "code",
   "execution_count": null,
   "metadata": {},
   "outputs": [
    {
     "ename": "",
     "evalue": "",
     "output_type": "error",
     "traceback": [
      "\u001b[1;31mRunning cells with '/opt/homebrew/bin/python3.12' requires the ipykernel package.\n",
      "\u001b[1;31mRun the following command to install 'ipykernel' into the Python environment. \n",
      "\u001b[1;31mCommand: '/opt/homebrew/bin/python3.12 -m pip install ipykernel -U --user --force-reinstall'"
     ]
    }
   ],
   "source": [
    "xlabel = 'Work Interfere'\n",
    "ylabel = 'Willingness Score'\n",
    "\n",
    "fig, ax = plt.subplots(figsize=(5, 3))\n",
    "bars = sns.barplot(x= 'work_interfere', y= 'willingness', data= survey_coded, color= flatui[-1], errwidth=0.75)\n",
    "\n",
    "bars.set(xlabel= xlabel, ylabel= ylabel, xticklabels=['Never', 'Rarely', \"Don't know\", 'Sometimes', 'Often'])\n",
    "bars.set_xticklabels(['Never', 'Rarely', \"Don't know\", 'Sometimes', 'Often'], rotation=30)\n",
    "bars.set()\n",
    "sns.despine(bottom= True)\n",
    "change_width(ax, .95)\n",
    "bars.tick_params(axis='x', which='both', length=0)\n",
    "\n",
    "figure = bars.get_figure()\n",
    "figure.savefig('figures/work_interfere_willingness.png')"
   ]
  },
  {
   "cell_type": "code",
   "execution_count": null,
   "metadata": {},
   "outputs": [
    {
     "ename": "",
     "evalue": "",
     "output_type": "error",
     "traceback": [
      "\u001b[1;31mRunning cells with '/opt/homebrew/bin/python3.12' requires the ipykernel package.\n",
      "\u001b[1;31mRun the following command to install 'ipykernel' into the Python environment. \n",
      "\u001b[1;31mCommand: '/opt/homebrew/bin/python3.12 -m pip install ipykernel -U --user --force-reinstall'"
     ]
    }
   ],
   "source": [
    "# I also did this analysis for gender but I find it slightly less interesting.\n",
    "gender_willingness = survey_coded.groupby('gender').agg({'willingness':'mean'})\n",
    "gender_willingness"
   ]
  },
  {
   "cell_type": "markdown",
   "metadata": {},
   "source": [
    "- **contrary to expected, it seems that women are less likely to open up about mental health. However, upon further thinking, this might make sense if we consider that tech is a male-dominated industry where perhaps climbing up the ladder as a woman is significantly harder. in that case, they would be much more scared to bring up these issues and make their lives ever harder?**"
   ]
  },
  {
   "cell_type": "code",
   "execution_count": null,
   "metadata": {},
   "outputs": [
    {
     "ename": "",
     "evalue": "",
     "output_type": "error",
     "traceback": [
      "\u001b[1;31mRunning cells with '/opt/homebrew/bin/python3.12' requires the ipykernel package.\n",
      "\u001b[1;31mRun the following command to install 'ipykernel' into the Python environment. \n",
      "\u001b[1;31mCommand: '/opt/homebrew/bin/python3.12 -m pip install ipykernel -U --user --force-reinstall'"
     ]
    }
   ],
   "source": [
    "# to reach the answer to our main question\n",
    "willingness_treatment = survey_coded.groupby('workplace_resources').agg({'willingness':'mean'})\n",
    "willingness_treatment"
   ]
  },
  {
   "cell_type": "code",
   "execution_count": null,
   "metadata": {},
   "outputs": [
    {
     "ename": "",
     "evalue": "",
     "output_type": "error",
     "traceback": [
      "\u001b[1;31mRunning cells with '/opt/homebrew/bin/python3.12' requires the ipykernel package.\n",
      "\u001b[1;31mRun the following command to install 'ipykernel' into the Python environment. \n",
      "\u001b[1;31mCommand: '/opt/homebrew/bin/python3.12 -m pip install ipykernel -U --user --force-reinstall'"
     ]
    }
   ],
   "source": [
    "# create a bar plot with the average willingness score for each workplace resourses category\n",
    "xlabel = 'Workplace Resources Score'\n",
    "ylabel = 'Willingness Score'\n",
    "\n",
    "fig, ax = plt.subplots()\n",
    "bars = sns.barplot(x='workplace_resources', y='willingness', data= survey_coded, \n",
    "                   color= flatui[3], errwidth=0.75)\n",
    "\n",
    "bars.set(xlabel= xlabel, ylabel= ylabel)\n",
    "sns.despine()\n",
    "change_width(ax, .9)\n",
    "figure = bars.get_figure()\n",
    "figure.savefig('figures/resources_willingness.png')"
   ]
  },
  {
   "cell_type": "markdown",
   "metadata": {},
   "source": [
    "- **it looks like the average willingness score goes up the more resources are available in the company! which is pretty cool**\n",
    "- **to try and get some statistical power on this we took the raw data and tried to make a linear regression to see if we could predict the willing score of a person using workplace resources.**"
   ]
  },
  {
   "cell_type": "code",
   "execution_count": null,
   "metadata": {},
   "outputs": [
    {
     "ename": "",
     "evalue": "",
     "output_type": "error",
     "traceback": [
      "\u001b[1;31mRunning cells with '/opt/homebrew/bin/python3.12' requires the ipykernel package.\n",
      "\u001b[1;31mRun the following command to install 'ipykernel' into the Python environment. \n",
      "\u001b[1;31mCommand: '/opt/homebrew/bin/python3.12 -m pip install ipykernel -U --user --force-reinstall'"
     ]
    }
   ],
   "source": [
    "# linear regression\n",
    "x = survey_coded['workplace_resources']\n",
    "y = survey_coded['willingness']\n",
    "\n",
    "slope, intercept, r_value, p_value, std_err = stats.linregress(x, y)\n",
    "\n",
    "print ('The slope is: ' + str(slope))\n",
    "print ('The intercept is: ' + str(intercept))\n",
    "print ('The r_value is: ' + str(r_value**2))\n",
    "print ('The std error is: ' + str(std_err))\n",
    "print(p_value)"
   ]
  },
  {
   "cell_type": "code",
   "execution_count": null,
   "metadata": {},
   "outputs": [
    {
     "ename": "",
     "evalue": "",
     "output_type": "error",
     "traceback": [
      "\u001b[1;31mRunning cells with '/opt/homebrew/bin/python3.12' requires the ipykernel package.\n",
      "\u001b[1;31mRun the following command to install 'ipykernel' into the Python environment. \n",
      "\u001b[1;31mCommand: '/opt/homebrew/bin/python3.12 -m pip install ipykernel -U --user --force-reinstall'"
     ]
    }
   ],
   "source": [
    "xlabel = 'Workplace Resources Score'\n",
    "ylabel = 'Willingness Score'\n",
    "reg = sns.regplot(x, y, x_estimator=np.mean,\n",
    "                  scatter_kws={'color':flatui[3]}, \n",
    "                  line_kws = {'color':flatui[3],\n",
    "                              'ls':'dashed'})\n",
    "reg.set(xlabel= xlabel, ylabel= ylabel)\n",
    "sns.despine()\n",
    "figure = reg.get_figure()\n",
    "figure.savefig('figures/resources_willingness_regplot.png')"
   ]
  },
  {
   "cell_type": "markdown",
   "metadata": {},
   "source": [
    "- **there doesn't seem to be a strong relationship between these variables BUT!**\n",
    "- **Even though our model only explains a small amount of the variation, when you consider all the things that might affect behavior towards mental health, even a small effect should not be ignored.**"
   ]
  }
 ],
 "metadata": {
  "kernelspec": {
   "display_name": "Python 3",
   "language": "python",
   "name": "python3"
  },
  "language_info": {
   "codemirror_mode": {
    "name": "ipython",
    "version": 3
   },
   "file_extension": ".py",
   "mimetype": "text/x-python",
   "name": "python",
   "nbconvert_exporter": "python",
   "pygments_lexer": "ipython3",
   "version": "3.12.0"
  }
 },
 "nbformat": 4,
 "nbformat_minor": 2
}
